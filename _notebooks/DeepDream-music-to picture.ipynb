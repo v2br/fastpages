{
 "cells": [
  {
   "source": [
    "# \"DeepDream and style transfer fun\"\n",
    "> \"Can we visualize music using deep Dream ?\"\n",
    "\n",
    "- toc:true\n",
    "- branch: master\n",
    "- badges: true\n",
    "- comments: true\n",
    "- author: Vadim Barilko\n",
    "- categories: [style-transfer]"
   ],
   "cell_type": "markdown",
   "metadata": {}
  },
  {
   "source": [
    "-Task description , \n",
    "- Data for the task\n",
    "- standard approach\n",
    "- my approach: std  -top-lvel +filter\n",
    "- compare \n",
    "- ?  \n",
    "\n"
   ],
   "cell_type": "markdown",
   "metadata": {}
  }
 ],
 "metadata": {
  "kernelspec": {
   "display_name": "Julia 1.6.0",
   "language": "julia",
   "name": "julia-1.6"
  },
  "language_info": {
   "file_extension": ".jl",
   "mimetype": "application/julia",
   "name": "julia",
   "version": "1.6.0"
  }
 },
 "nbformat": 4,
 "nbformat_minor": 5
}