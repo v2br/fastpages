{
 "cells": [
  {
   "cell_type": "markdown",
   "id": "59620bd9",
   "metadata": {},
   "source": [
    "# \"Comprehesive data Exploration\"\n",
    "> \"Initial data analysis example usiang pandas\"\n",
    "\n",
    "- toc:true\n",
    "- branch: master\n",
    "- badges: true\n",
    "- comments: true\n",
    "- author: Vadim \n",
    "- categories: [pandas, data-analysis]\n"
   ]
  },
  {
   "cell_type": "code",
   "execution_count": null,
   "id": "3ccc17a1",
   "metadata": {},
   "outputs": [],
   "source": [
    "# start\n"
   ]
  }
 ],
 "metadata": {
  "kernelspec": {
   "display_name": "Python 3",
   "language": "python",
   "name": "python3"
  },
  "language_info": {
   "codemirror_mode": {
    "name": "ipython",
    "version": 3
   },
   "file_extension": ".py",
   "mimetype": "text/x-python",
   "name": "python",
   "nbconvert_exporter": "python",
   "pygments_lexer": "ipython3",
   "version": "3.8.6"
  }
 },
 "nbformat": 4,
 "nbformat_minor": 5
}